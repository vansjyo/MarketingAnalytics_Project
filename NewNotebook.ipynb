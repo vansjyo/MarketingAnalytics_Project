{
 "cells": [
  {
   "cell_type": "code",
   "execution_count": 1,
   "metadata": {},
   "outputs": [
    {
     "name": "stdout",
     "output_type": "stream",
     "text": [
      "       age           job   marital  education default  balance housing loan  \\\n",
      "0       58    management   married   tertiary      no     2143     yes   no   \n",
      "1       44    technician    single  secondary      no       29     yes   no   \n",
      "2       33  entrepreneur   married  secondary      no        2     yes  yes   \n",
      "3       47   blue-collar   married    unknown      no     1506     yes   no   \n",
      "4       33       unknown    single    unknown      no        1      no   no   \n",
      "...    ...           ...       ...        ...     ...      ...     ...  ...   \n",
      "45206   51    technician   married   tertiary      no      825      no   no   \n",
      "45207   71       retired  divorced    primary      no     1729      no   no   \n",
      "45208   72       retired   married  secondary      no     5715      no   no   \n",
      "45209   57   blue-collar   married  secondary      no      668      no   no   \n",
      "45210   37  entrepreneur   married  secondary      no     2971      no   no   \n",
      "\n",
      "         contact  day month  duration  campaign  pdays  previous poutcome    y  \n",
      "0        unknown    5   may       261         1     -1         0  unknown   no  \n",
      "1        unknown    5   may       151         1     -1         0  unknown   no  \n",
      "2        unknown    5   may        76         1     -1         0  unknown   no  \n",
      "3        unknown    5   may        92         1     -1         0  unknown   no  \n",
      "4        unknown    5   may       198         1     -1         0  unknown   no  \n",
      "...          ...  ...   ...       ...       ...    ...       ...      ...  ...  \n",
      "45206   cellular   17   nov       977         3     -1         0  unknown  yes  \n",
      "45207   cellular   17   nov       456         2     -1         0  unknown  yes  \n",
      "45208   cellular   17   nov      1127         5    184         3  success  yes  \n",
      "45209  telephone   17   nov       508         4     -1         0  unknown   no  \n",
      "45210   cellular   17   nov       361         2    188        11    other   no  \n",
      "\n",
      "[45211 rows x 17 columns]\n"
     ]
    }
   ],
   "source": [
    "import pandas as pd\n",
    "df = pd.read_csv('bank-full.csv', sep=';')\n",
    "print(df)"
   ]
  },
  {
   "cell_type": "code",
   "execution_count": 2,
   "metadata": {},
   "outputs": [
    {
     "name": "stdout",
     "output_type": "stream",
     "text": [
      "       age  job  marital  education  default  balance  housing  loan  contact  \\\n",
      "0       58    7        0          2        0     2143        1     0        1   \n",
      "1       44    0        1          1        0       29        1     0        1   \n",
      "2       33   10        0          1        0        2        1     1        1   \n",
      "3       47    5        0          0        0     1506        1     0        1   \n",
      "4       33    8        1          0        0        1        0     0        1   \n",
      "...    ...  ...      ...        ...      ...      ...      ...   ...      ...   \n",
      "45206   51    0        0          2        0      825        0     0        0   \n",
      "45207   71    4        2          3        0     1729        0     0        0   \n",
      "45208   72    4        0          1        0     5715        0     0        0   \n",
      "45209   57    5        0          1        0      668        0     0        2   \n",
      "45210   37   10        0          1        0     2971        0     0        0   \n",
      "\n",
      "       day  month  duration  campaign  pdays  previous  poutcome  y  \n",
      "0        5     11       261         1     -1         0         1  0  \n",
      "1        5     11       151         1     -1         0         1  0  \n",
      "2        5     11        76         1     -1         0         1  0  \n",
      "3        5     11        92         1     -1         0         1  0  \n",
      "4        5     11       198         1     -1         0         1  0  \n",
      "...    ...    ...       ...       ...    ...       ...       ... ..  \n",
      "45206   17      0       977         3     -1         0         1  1  \n",
      "45207   17      0       456         2     -1         0         1  1  \n",
      "45208   17      0      1127         5    184         3         0  1  \n",
      "45209   17      0       508         4     -1         0         1  0  \n",
      "45210   17      0       361         2    188        11         3  0  \n",
      "\n",
      "[45211 rows x 17 columns]\n"
     ]
    }
   ],
   "source": [
    "for col_name in df.columns:\n",
    "    if type(df[col_name][0]) == str:\n",
    "        unique = list(set(df[col_name]))\n",
    "        for (replacee, replacer) in zip(unique, range(len(unique))):\n",
    "            df[col_name] = df[col_name].replace(replacee, replacer)\n",
    "            \n",
    "print(df)"
   ]
  },
  {
   "cell_type": "code",
   "execution_count": 3,
   "metadata": {},
   "outputs": [
    {
     "name": "stdout",
     "output_type": "stream",
     "text": [
      "              0         1    2         3    4         5    6    7    8  \\\n",
      "0      0.519481  0.636364  0.0  0.666667  0.0  0.092259  1.0  0.0  0.5   \n",
      "1      0.337662  0.000000  0.5  0.333333  0.0  0.073067  1.0  0.0  0.5   \n",
      "2      0.194805  0.909091  0.0  0.333333  0.0  0.072822  1.0  1.0  0.5   \n",
      "3      0.376623  0.454545  0.0  0.000000  0.0  0.086476  1.0  0.0  0.5   \n",
      "4      0.194805  0.727273  0.5  0.000000  0.0  0.072812  0.0  0.0  0.5   \n",
      "...         ...       ...  ...       ...  ...       ...  ...  ...  ...   \n",
      "45206  0.428571  0.000000  0.0  0.666667  0.0  0.080293  0.0  0.0  0.0   \n",
      "45207  0.688312  0.363636  1.0  1.000000  0.0  0.088501  0.0  0.0  0.0   \n",
      "45208  0.701299  0.363636  0.0  0.333333  0.0  0.124689  0.0  0.0  0.0   \n",
      "45209  0.506494  0.454545  0.0  0.333333  0.0  0.078868  0.0  0.0  1.0   \n",
      "45210  0.246753  0.909091  0.0  0.333333  0.0  0.099777  0.0  0.0  0.0   \n",
      "\n",
      "              9   10        11        12        13        14        15   16  \n",
      "0      0.133333  1.0  0.053070  0.000000  0.000000  0.000000  0.333333  0.0  \n",
      "1      0.133333  1.0  0.030704  0.000000  0.000000  0.000000  0.333333  0.0  \n",
      "2      0.133333  1.0  0.015453  0.000000  0.000000  0.000000  0.333333  0.0  \n",
      "3      0.133333  1.0  0.018707  0.000000  0.000000  0.000000  0.333333  0.0  \n",
      "4      0.133333  1.0  0.040260  0.000000  0.000000  0.000000  0.333333  0.0  \n",
      "...         ...  ...       ...       ...       ...       ...       ...  ...  \n",
      "45206  0.533333  0.0  0.198658  0.032258  0.000000  0.000000  0.333333  1.0  \n",
      "45207  0.533333  0.0  0.092721  0.016129  0.000000  0.000000  0.333333  1.0  \n",
      "45208  0.533333  0.0  0.229158  0.064516  0.212156  0.010909  0.000000  1.0  \n",
      "45209  0.533333  0.0  0.103294  0.048387  0.000000  0.000000  0.333333  0.0  \n",
      "45210  0.533333  0.0  0.073404  0.016129  0.216743  0.040000  1.000000  0.0  \n",
      "\n",
      "[45211 rows x 17 columns]\n"
     ]
    }
   ],
   "source": [
    "import pandas as pd\n",
    "from sklearn import preprocessing\n",
    "\n",
    "x = df.values #returns a numpy array\n",
    "min_max_scaler = preprocessing.MinMaxScaler()\n",
    "x_scaled = min_max_scaler.fit_transform(x)\n",
    "df = pd.DataFrame(x_scaled)\n",
    "print(df)"
   ]
  },
  {
   "cell_type": "code",
   "execution_count": 49,
   "metadata": {},
   "outputs": [
    {
     "name": "stdout",
     "output_type": "stream",
     "text": [
      "             13        14\n",
      "8968   0.000000  0.000000\n",
      "6060   0.000000  0.000000\n",
      "6297   0.000000  0.000000\n",
      "24282  0.000000  0.000000\n",
      "12203  0.000000  0.000000\n",
      "...         ...       ...\n",
      "12745  0.000000  0.000000\n",
      "32952  0.000000  0.000000\n",
      "31743  0.161697  0.010909\n",
      "4175   0.000000  0.000000\n",
      "10593  0.000000  0.000000\n",
      "\n",
      "[35000 rows x 2 columns]\n"
     ]
    }
   ],
   "source": [
    "from sklearn.utils import shuffle\n",
    "df = shuffle(df)\n",
    "trainingSet = df[:35000]\n",
    "testingSet = df[35001:]\n",
    "XtrainingSet = trainingSet.loc[:, :15]\n",
    "XtestingSet = testingSet.loc[:, :15]\n",
    "ytrainingSet = trainingSet.loc[:, 16]\n",
    "ytestingSet = testingSet.loc[:, 16]\n",
    "print(XtrainingSet.loc[:,13:14])"
   ]
  },
  {
   "cell_type": "code",
   "execution_count": 59,
   "metadata": {},
   "outputs": [
    {
     "data": {
      "image/png": "[encoded data removed]",
      "text/plain": [
       "<Figure size 432x288 with 1 Axes>"
      ]
     },
     "metadata": {},
     "output_type": "display_data"
    },
    {
     "name": "stdout",
     "output_type": "stream",
     "text": [
      "[0.0, 1.0]\n"
     ]
    }
   ],
   "source": [
    "import matplotlib.pyplot as plt\n",
    "plt.scatter(XtrainingSet.loc[:, 7], XtrainingSet.loc[:, 8], c=df[:35000][16], cmap=plt.cm.coolwarm)\n",
    "plt.xlabel('Feature 12')\n",
    "plt.ylabel('Feature 11')\n",
    "plt.title('Dataset plotted for Feature 12 and 11')\n",
    "plt.savefig('Plotdata1211.png')\n",
    "plt.show()\n",
    "print(list(set(df[16])))"
   ]
  },
  {
   "cell_type": "code",
   "execution_count": 35,
   "metadata": {
    "scrolled": true
   },
   "outputs": [
    {
     "data": {
      "image/png": "[encoded data removed]",
      "text/plain": [
       "<Figure size 720x576 with 2 Axes>"
      ]
     },
     "metadata": {},
     "output_type": "display_data"
    }
   ],
   "source": [
    "import matplotlib.pyplot as plt\n",
    "f = plt.figure(figsize=(10,8))\n",
    "plt.matshow(XtrainingSet.corr(), fignum=f.number)\n",
    "plt.xticks(range(XtrainingSet.shape[1]), XtrainingSet.columns, fontsize=14, rotation=45)\n",
    "plt.yticks(range(XtrainingSet.shape[1]), XtrainingSet.columns, fontsize=14)\n",
    "cb = plt.colorbar()\n",
    "cb.ax.tick_params(labelsize=14)\n",
    "plt.title('Correlation Matrix', fontsize=16);\n",
    "plt.show()"
   ]
  },
  {
   "cell_type": "code",
   "execution_count": 55,
   "metadata": {},
   "outputs": [
    {
     "name": "stdout",
     "output_type": "stream",
     "text": [
      "--- 0.8801705837249756 seconds ---\n",
      "Predicted Probabilities for Logistic Model:\n",
      " [[0.95811436 0.04188564]\n",
      " [0.50561941 0.49438059]\n",
      " [0.8596299  0.1403701 ]\n",
      " ...\n",
      " [0.98263845 0.01736155]\n",
      " [0.95550441 0.04449559]\n",
      " [0.95411992 0.04588008]]\n",
      "\n",
      " Logistic Coefficients:\n",
      " [[ 0.3197647   0.1574332   0.3538334  -0.13297475 -0.44574807  1.85695249\n",
      "  -1.03696903 -0.66145741 -1.05466932 -0.13563776 -0.01764369 17.3699126\n",
      "  -4.70983552  4.557924    3.45358819 -2.63994506]]\n",
      "\n",
      " Logistic Score:\n",
      " 0.8922624877571009\n"
     ]
    }
   ],
   "source": [
    "from sklearn.linear_model import LogisticRegression\n",
    "import time\n",
    "logistic = LogisticRegression(solver = 'lbfgs', max_iter=300)\n",
    "start_time = time.time()\n",
    "logistic.fit(XtrainingSet, ytrainingSet)\n",
    "print(\"--- %s seconds ---\" % (time.time() - start_time))\n",
    "ypredicted_log = logistic.predict(XtestingSet)\n",
    "ypredictedprob_log = logistic.predict_proba(XtestingSet)\n",
    "logisticScore = logistic.score(XtestingSet, ytestingSet)\n",
    "print(\"Predicted Probabilities for Logistic Model:\\n\", ypredictedprob_log)\n",
    "print(\"\\n Logistic Coefficients:\\n\" , logistic.coef_)\n",
    "print(\"\\n Logistic Score:\\n\" , logisticScore)"
   ]
  },
  {
   "cell_type": "code",
   "execution_count": 56,
   "metadata": {},
   "outputs": [
    {
     "name": "stderr",
     "output_type": "stream",
     "text": [
      "/usr/local/lib/python3.6/dist-packages/sklearn/svm/base.py:193: FutureWarning: The default value of gamma will change from 'auto' to 'scale' in version 0.22 to account better for unscaled features. Set gamma explicitly to 'auto' or 'scale' to avoid this warning.\n",
      "  \"avoid this warning.\", FutureWarning)\n"
     ]
    },
    {
     "name": "stdout",
     "output_type": "stream",
     "text": [
      "--- 204.32976651191711 seconds ---\n",
      "Predicted Probabilities for Logistic Model:\n",
      " [[0.90953301 0.09046699]\n",
      " [0.78893395 0.21106605]\n",
      " [0.91401599 0.08598401]\n",
      " ...\n",
      " [0.94760102 0.05239898]\n",
      " [0.92126511 0.07873489]\n",
      " [0.93351681 0.06648319]]\n",
      "\n",
      " Logistic Score:\n",
      " 0.8865817825661116\n"
     ]
    }
   ],
   "source": [
    "from sklearn import svm\n",
    "svmModel = svm.SVC(kernel = 'rbf', C = 1.0, probability=True)\n",
    "start_time = time.time()\n",
    "svmModel.fit(XtrainingSet, ytrainingSet)\n",
    "print(\"--- %s seconds ---\" % (time.time() - start_time))\n",
    "ypredicted_svm = svmModel.predict(XtestingSet)\n",
    "ypredictedprob_svm = svmModel.predict_proba(XtestingSet)\n",
    "svmScore = svmModel.score(XtestingSet, ytestingSet)\n",
    "print(\"Predicted Probabilities for Logistic Model:\\n\", ypredictedprob_svm)\n",
    "print(\"\\n Logistic Score:\\n\" , svmScore)"
   ]
  },
  {
   "cell_type": "code",
   "execution_count": 68,
   "metadata": {},
   "outputs": [
    {
     "name": "stderr",
     "output_type": "stream",
     "text": [
      "/usr/local/lib/python3.6/dist-packages/sklearn/svm/base.py:193: FutureWarning: The default value of gamma will change from 'auto' to 'scale' in version 0.22 to account better for unscaled features. Set gamma explicitly to 'auto' or 'scale' to avoid this warning.\n",
      "  \"avoid this warning.\", FutureWarning)\n"
     ]
    },
    {
     "data": {
      "image/png": "[encoded data removed]",
      "text/plain": [
       "<Figure size 432x288 with 4 Axes>"
      ]
     },
     "metadata": {},
     "output_type": "display_data"
    }
   ],
   "source": [
    "import numpy as np\n",
    "from sklearn import svm\n",
    "h=0.02\n",
    "x_min, x_max = XtrainingSet.loc[:, 13].min() - 1, XtrainingSet.loc[:, 13].max() + 1\n",
    "y_min, y_max = XtrainingSet.loc[:, 14].min() - 1, XtrainingSet.loc[:, 14].max() + 1\n",
    "xx, yy = np.meshgrid(np.arange(x_min, x_max, h),\n",
    "            np.arange(y_min, y_max, h))\n",
    "# title for the plots\n",
    "C = 1.0  # SVM regularization parameter\n",
    "# SVC with linear kernel\n",
    "svc = svm.SVC(kernel='linear', C=C).fit(XtrainingSet.loc[:,13:14], ytrainingSet)\n",
    "# LinearSVC (linear kernel)\n",
    "lin_svc = svm.LinearSVC(C=C).fit(XtrainingSet.loc[:,13:14], ytrainingSet)\n",
    "# SVC with RBF kernel\n",
    "rbf_svc = svm.SVC(kernel='rbf', gamma=0.7, C=C).fit(XtrainingSet.loc[:,13:14], ytrainingSet)\n",
    "# SVC with polynomial (degree 3) kernel\n",
    "poly_svc = svm.SVC(kernel='poly', degree=3, C=C).fit(XtrainingSet.loc[:,13:14], ytrainingSet)\n",
    "titles = ['SVC with linear kernel',\n",
    "  'LinearSVC (linear kernel)',\n",
    "  'SVC with RBF kernel',\n",
    "  'SVC with polynomial (degree 3) kernel']\n",
    " \n",
    " \n",
    "for i, clf in enumerate((svc, lin_svc, rbf_svc, poly_svc)):\n",
    "    # Plot the decision boundary. For that, we will assign a color to each\n",
    "    # point in the mesh [x_min, x_max]x[y_min, y_max].\n",
    "    plt.subplot(2, 2, i + 1)\n",
    "    plt.subplots_adjust(wspace=0.4, hspace=0.4)\n",
    " \n",
    "    Z = clf.predict(np.c_[xx.ravel(), yy.ravel()])\n",
    " \n",
    "    # Put the result into a color plot\n",
    "    Z = Z.reshape(xx.shape)\n",
    "    plt.contourf(xx, yy, Z, cmap=plt.cm.coolwarm, alpha=0.8)\n",
    " \n",
    "    # Plot also the training points\n",
    "    plt.scatter(XtrainingSet.loc[:,13], XtrainingSet.loc[:,14], c=ytrainingSet, cmap=plt.cm.coolwarm)\n",
    "    plt.xlabel('Petal length')\n",
    "    plt.ylabel('Petal width')\n",
    "    plt.xlim(xx.min(), xx.max())\n",
    "    plt.ylim(yy.min(), yy.max())\n",
    "    plt.xticks(())\n",
    "    plt.yticks(())\n",
    "    plt.title(titles[i])\n",
    " \n",
    "plt.show()"
   ]
  },
  {
   "cell_type": "code",
   "execution_count": 37,
   "metadata": {},
   "outputs": [
    {
     "name": "stdout",
     "output_type": "stream",
     "text": [
      "--- 29.703973531723022 seconds ---\n",
      "MLP Score 0.9024485798237023\n",
      "weights between input and first hidden layer:\n",
      "[[ 0.16420948  0.00293178 -0.41085558 ... -0.0086284  -0.32661034\n",
      "   0.18964687]\n",
      " [ 0.20233068 -0.23822743 -0.18086236 ... -0.26098525 -0.22680341\n",
      "   1.07591512]\n",
      " [ 0.5909329  -0.10785925 -0.11275618 ... -0.38331947  0.10478057\n",
      "  -0.78392585]\n",
      " ...\n",
      " [ 0.10433406 -0.11348563  0.07036397 ... -0.04766261  0.20484384\n",
      "   0.61193416]\n",
      " [-0.00178297 -0.05093429  0.09846582 ...  0.06464561 -0.00411874\n",
      "   0.23445205]\n",
      " [-0.29357447  0.16698684 -0.63338456 ... -0.16773936 -0.19577292\n",
      "  -0.49716307]]\n",
      "\n",
      "weights between first hidden and second hidden layer:\n",
      "[[-2.53240305e-01]\n",
      " [-7.54301987e-01]\n",
      " [-9.02955158e-01]\n",
      " [ 1.51019084e-01]\n",
      " [-2.28784669e-01]\n",
      " [-2.99841585e+00]\n",
      " [-5.29971310e-01]\n",
      " [ 7.26420800e-02]\n",
      " [-8.98336705e-02]\n",
      " [-1.21694107e-01]\n",
      " [ 4.19227492e-01]\n",
      " [ 1.14464600e-01]\n",
      " [ 4.29000798e-01]\n",
      " [-3.22914183e-01]\n",
      " [-2.65980275e+00]\n",
      " [ 3.82447464e-02]\n",
      " [-1.07547904e-01]\n",
      " [-5.09582819e-02]\n",
      " [ 3.35309749e-01]\n",
      " [-2.82936409e+00]\n",
      " [-7.72518295e-02]\n",
      " [-3.46130809e+00]\n",
      " [-2.58934700e-01]\n",
      " [-9.69726677e-01]\n",
      " [-3.90940045e-01]\n",
      " [ 4.29989262e+00]\n",
      " [ 2.04932125e+00]\n",
      " [ 4.71215585e-01]\n",
      " [-5.14152729e-01]\n",
      " [-1.78298942e+00]\n",
      " [-4.15141570e-01]\n",
      " [ 1.55851915e-01]\n",
      " [ 3.59214758e-01]\n",
      " [ 1.37346453e+00]\n",
      " [ 9.60915763e-03]\n",
      " [-6.41240311e-01]\n",
      " [ 4.44879202e-01]\n",
      " [ 1.81103083e+00]\n",
      " [ 9.65891589e-02]\n",
      " [ 1.35167809e+00]\n",
      " [ 7.80878779e-01]\n",
      " [ 1.18462622e+00]\n",
      " [ 1.14351715e-01]\n",
      " [ 1.48866755e+00]\n",
      " [ 9.89004768e-01]\n",
      " [-1.37009118e+00]\n",
      " [-5.74971389e-02]\n",
      " [ 1.65105501e-01]\n",
      " [-3.95178051e-01]\n",
      " [ 1.74714670e+00]\n",
      " [-2.49017110e-01]\n",
      " [ 1.25952326e+00]\n",
      " [ 2.53228406e-01]\n",
      " [ 1.95933439e+00]\n",
      " [-1.56618204e+00]\n",
      " [-1.17507481e-01]\n",
      " [-1.07098072e+00]\n",
      " [ 4.51447551e-02]\n",
      " [ 6.91549655e-01]\n",
      " [ 1.56703683e+00]\n",
      " [ 1.27757969e+00]\n",
      " [-1.11555688e-02]\n",
      " [-2.36343426e+00]\n",
      " [-8.44773968e-01]\n",
      " [ 4.78721876e-01]\n",
      " [-4.49509699e-02]\n",
      " [ 6.43183497e-01]\n",
      " [ 8.35133929e-01]\n",
      " [ 1.45171188e+00]\n",
      " [-8.29648750e-01]\n",
      " [-1.58454869e-01]\n",
      " [-2.17267511e-01]\n",
      " [ 1.06725087e-01]\n",
      " [-3.03519931e+00]\n",
      " [-1.35618357e+00]\n",
      " [-3.47089063e-01]\n",
      " [ 1.84525569e+00]\n",
      " [ 4.25582468e-01]\n",
      " [-1.05527962e+00]\n",
      " [ 6.03159158e-01]\n",
      " [-2.36847143e-01]\n",
      " [ 2.69337913e-02]\n",
      " [-1.00586173e+00]\n",
      " [ 2.81105436e-01]\n",
      " [ 7.25580268e-01]\n",
      " [-2.15242125e-01]\n",
      " [-5.85182289e-02]\n",
      " [ 4.16100905e-01]\n",
      " [-2.28204838e+00]\n",
      " [ 5.55739179e-01]\n",
      " [ 2.83558716e-01]\n",
      " [-1.17616741e+00]\n",
      " [ 1.07474539e-01]\n",
      " [-3.85266336e-01]\n",
      " [-8.65937527e-01]\n",
      " [-6.69260687e-01]\n",
      " [-3.26381610e+00]\n",
      " [-4.12678160e-03]\n",
      " [-3.35916389e-02]\n",
      " [ 1.30656036e+00]]\n"
     ]
    }
   ],
   "source": [
    "from sklearn.neural_network import MLPClassifier\n",
    "mlpModel = MLPClassifier(solver = 'lbfgs', max_iter=300, alpha=1e-5, verbose=10, tol=1e-4, random_state=1,\n",
    "                         learning_rate_init=.1)\n",
    "start_time = time.time()\n",
    "mlpModel.fit(XtrainingSet, ytrainingSet)\n",
    "print(\"--- %s seconds ---\" % (time.time() - start_time))\n",
    "ypredicted_mlp = mlpModel.predict_proba(XtestingSet)\n",
    "ypredictedprob_mlp = mlpModel.predict_proba(XtestingSet)\n",
    "mlpScore = mlpModel.score(XtestingSet, ytestingSet)\n",
    "print(\"MLP Score\", mlpScore)\n",
    "print(\"weights between input and first hidden layer:\")\n",
    "print(mlpModel.coefs_[0])\n",
    "print(\"\\nweights between first hidden and second hidden layer:\")\n",
    "print(mlpModel.coefs_[1])"
   ]
  },
  {
   "cell_type": "code",
   "execution_count": 39,
   "metadata": {},
   "outputs": [
    {
     "name": "stdout",
     "output_type": "stream",
     "text": [
      "--- 0.2611081600189209 seconds ---\n",
      "0.8870714985308521\n"
     ]
    }
   ],
   "source": [
    "from sklearn.neighbors import KNeighborsClassifier\n",
    "for i in range(100):\n",
    "    knnModel = KNeighborsClassifier(n_neighbors=i)\n",
    "    knnModel.fit(XtrainingSet, ytrainingSet)\n",
    "start_time = time.time()\n",
    "\n",
    "print(\"--- %s seconds ---\" % (time.time() - start_time))\n",
    "ypredicted_knn = knnModel.predict(XtestingSet)\n",
    "ypredictedprob_knn = knnModel.predict_proba(XtestingSet)\n",
    "knnScore = knnModel.score(XtestingSet, ytestingSet)\n",
    "print(knnScore)"
   ]
  },
  {
   "cell_type": "code",
   "execution_count": 9,
   "metadata": {},
   "outputs": [
    {
     "ename": "NameError",
     "evalue": "name 'mlpScore' is not defined",
     "output_type": "error",
     "traceback": [
      "\u001b[0;31m----------------------------------------------------------------------\u001b[0m",
      "\u001b[0;31mNameError\u001b[0m                            Traceback (most recent call last)",
      "\u001b[0;32m<ipython-input-9-5c50074eda4c>\u001b[0m in \u001b[0;36m<module>\u001b[0;34m()\u001b[0m\n\u001b[1;32m      3\u001b[0m \u001b[0mget_ipython\u001b[0m\u001b[0;34m(\u001b[0m\u001b[0;34m)\u001b[0m\u001b[0;34m.\u001b[0m\u001b[0mmagic\u001b[0m\u001b[0;34m(\u001b[0m\u001b[0;34m'matplotlib inline'\u001b[0m\u001b[0;34m)\u001b[0m\u001b[0;34m\u001b[0m\u001b[0;34m\u001b[0m\u001b[0m\n\u001b[1;32m      4\u001b[0m \u001b[0mobjects\u001b[0m \u001b[0;34m=\u001b[0m \u001b[0;34m(\u001b[0m\u001b[0;34m'LogisticR'\u001b[0m\u001b[0;34m,\u001b[0m \u001b[0;34m'SVM'\u001b[0m\u001b[0;34m,\u001b[0m \u001b[0;34m'MLP'\u001b[0m\u001b[0;34m,\u001b[0m \u001b[0;34m'KNN'\u001b[0m\u001b[0;34m)\u001b[0m\u001b[0;34m\u001b[0m\u001b[0;34m\u001b[0m\u001b[0m\n\u001b[0;32m----> 5\u001b[0;31m \u001b[0maccuracyArray\u001b[0m \u001b[0;34m=\u001b[0m \u001b[0mnp\u001b[0m\u001b[0;34m.\u001b[0m\u001b[0marray\u001b[0m\u001b[0;34m(\u001b[0m\u001b[0;34m[\u001b[0m\u001b[0mlogisticScore\u001b[0m\u001b[0;34m,\u001b[0m \u001b[0msvmScore\u001b[0m\u001b[0;34m,\u001b[0m \u001b[0mmlpScore\u001b[0m\u001b[0;34m,\u001b[0m \u001b[0mknnScore\u001b[0m\u001b[0;34m]\u001b[0m\u001b[0;34m)\u001b[0m\u001b[0;34m*\u001b[0m\u001b[0;36m100\u001b[0m\u001b[0;34m\u001b[0m\u001b[0;34m\u001b[0m\u001b[0m\n\u001b[0m\u001b[1;32m      6\u001b[0m \u001b[0my_pos\u001b[0m \u001b[0;34m=\u001b[0m \u001b[0mnp\u001b[0m\u001b[0;34m.\u001b[0m\u001b[0marange\u001b[0m\u001b[0;34m(\u001b[0m\u001b[0mlen\u001b[0m\u001b[0;34m(\u001b[0m\u001b[0mobjects\u001b[0m\u001b[0;34m)\u001b[0m\u001b[0;34m)\u001b[0m\u001b[0;34m\u001b[0m\u001b[0;34m\u001b[0m\u001b[0m\n\u001b[1;32m      7\u001b[0m \u001b[0mplt\u001b[0m\u001b[0;34m.\u001b[0m\u001b[0mbar\u001b[0m\u001b[0;34m(\u001b[0m\u001b[0my_pos\u001b[0m\u001b[0;34m,\u001b[0m \u001b[0maccuracyArray\u001b[0m\u001b[0;34m,\u001b[0m \u001b[0malign\u001b[0m\u001b[0;34m=\u001b[0m\u001b[0;34m'center'\u001b[0m\u001b[0;34m,\u001b[0m \u001b[0malpha\u001b[0m\u001b[0;34m=\u001b[0m\u001b[0;36m0.5\u001b[0m\u001b[0;34m)\u001b[0m\u001b[0;34m\u001b[0m\u001b[0;34m\u001b[0m\u001b[0m\n",
      "\u001b[0;31mNameError\u001b[0m: name 'mlpScore' is not defined"
     ]
    }
   ],
   "source": [
    "import numpy as np\n",
    "%matplotlib inline\n",
    "objects = ('LogisticR', 'SVM', 'MLP', 'KNN')\n",
    "accuracyArray = np.array([logisticScore, svmScore, mlpScore, knnScore])*100\n",
    "y_pos = np.arange(len(objects))\n",
    "plt.bar(y_pos, accuracyArray, align='center', alpha=0.5)\n",
    "plt.xticks(y_pos, objects)\n",
    "plt.ylabel('Accuracy in %')\n",
    "plt.title('Comparison Among Different Models')\n",
    "plt.savefig('accuracy.png')\n",
    "plt.show()"
   ]
  },
  {
   "cell_type": "code",
   "execution_count": 11,
   "metadata": {},
   "outputs": [
    {
     "data": {
      "image/png": "[encoded data removed]",
      "text/plain": [
       "<Figure size 432x288 with 1 Axes>"
      ]
     },
     "metadata": {},
     "output_type": "display_data"
    }
   ],
   "source": [
    "normalizedAccuracyArray = ((accuracyArray-min(accuracyArray))/(max(accuracyArray) - min(accuracyArray)))*100\n",
    "plt.bar(y_pos, normalizedAccuracyArray, align='center', alpha=0.5)\n",
    "plt.xticks(y_pos, objects)\n",
    "plt.ylabel(' Normalized Accuracy in %')\n",
    "plt.title('Comparison Among Different Models')\n",
    "plt.savefig('normalizedAccuracy.png')\n",
    "plt.show()"
   ]
  },
  {
   "cell_type": "code",
   "execution_count": 22,
   "metadata": {
    "scrolled": true
   },
   "outputs": [
    {
     "name": "stdout",
     "output_type": "stream",
     "text": [
      "No Skill: ROC AUC=0.500\n",
      "Logistic: ROC AUC=0.796\n"
     ]
    },
    {
     "data": {
      "image/png": "[encoded data removed]",
      "text/plain": [
       "<Figure size 432x288 with 1 Axes>"
      ]
     },
     "metadata": {},
     "output_type": "display_data"
    },
    {
     "name": "stdout",
     "output_type": "stream",
     "text": [
      "5458     0.0\n",
      "34756    0.0\n",
      "645      0.0\n",
      "34708    0.0\n",
      "23430    0.0\n",
      "        ... \n",
      "1042     0.0\n",
      "43540    1.0\n",
      "15026    0.0\n",
      "19217    0.0\n",
      "14170    0.0\n",
      "Name: 16, Length: 10210, dtype: float64\n"
     ]
    }
   ],
   "source": [
    "# predict probabilities\n",
    "from sklearn.metrics import roc_curve\n",
    "from sklearn.metrics import roc_auc_score\n",
    "ns_probs = [1 for _ in range(len(ytestingSet))]\n",
    "lr_probs = ypredictedprob_knn\n",
    "# keep probabilities for the positive outcome only\n",
    "lr_probs = lr_probs[:,1]\n",
    "# calculate scores\n",
    "ns_auc = roc_auc_score(ytestingSet, ns_probs)\n",
    "lr_auc = roc_auc_score(ytestingSet, lr_probs)\n",
    "# summarize scores\n",
    "print('No Skill: ROC AUC=%.3f' % (ns_auc))\n",
    "print('Logistic: ROC AUC=%.3f' % (lr_auc))\n",
    "# calculate roc curves\n",
    "ns_fpr, ns_tpr, _ = roc_curve(ytestingSet, ns_probs)\n",
    "lr_fpr, lr_tpr, _ = roc_curve(ytestingSet, lr_probs)\n",
    "# plot the roc curve for the model\n",
    "plt.plot(ns_fpr, ns_tpr, linestyle='--', label='No Skill')\n",
    "plt.plot(lr_fpr, lr_tpr, marker='.', label='Logistic')\n",
    "# axis labels\n",
    "plt.xlabel('False Positive Rate')\n",
    "plt.ylabel('True Positive Rate')\n",
    "# show the legend\n",
    "plt.legend()\n",
    "# show the plot\n",
    "plt.savefig('ROC_svm_wrong.png')\n",
    "plt.show()\n",
    "print(ytestingSet)"
   ]
  },
  {
   "cell_type": "code",
   "execution_count": 11,
   "metadata": {},
   "outputs": [
    {
     "name": "stdout",
     "output_type": "stream",
     "text": [
      "No Skill: f1=0.202 auc=0.556\n",
      "Logistic: f1=0.285 auc=0.487\n"
     ]
    },
    {
     "data": {
      "image/png": "[encoded data removed]",
      "text/plain": [
       "<Figure size 432x288 with 1 Axes>"
      ]
     },
     "metadata": {},
     "output_type": "display_data"
    }
   ],
   "source": [
    "from sklearn.metrics import precision_recall_curve\n",
    "from sklearn.metrics import f1_score\n",
    "from sklearn.metrics import auc\n",
    "# calculate precision and recall for each threshold\n",
    "ns_precision, ns_recall, _ = precision_recall_curve(ytestingSet, ns_probs)\n",
    "lr_precision, lr_recall, _ = precision_recall_curve(ytestingSet, lr_probs)\n",
    "# calculate scores\n",
    "ns_f1, ns_auc = f1_score(ytestingSet, ns_probs), auc(ns_recall, ns_precision)\n",
    "lr_f1, lr_auc = f1_score(ytestingSet, ypredicted_log), auc(lr_recall, lr_precision)\n",
    "# summarize scores\n",
    "print('No Skill: f1=%.3f auc=%.3f' % (ns_f1, ns_auc))\n",
    "print('Logistic: f1=%.3f auc=%.3f' % (lr_f1, lr_auc))\n",
    "# plot the precision-recall curves\n",
    "plt.plot(ns_recall, ns_precision, linestyle='--', label='No Skill')\n",
    "plt.plot(lr_recall, lr_precision, marker='.', label='Logistic')\n",
    "# axis labels\n",
    "plt.xlabel('Recall')\n",
    "plt.ylabel('Precision')\n",
    "# show the legend\n",
    "plt.legend()\n",
    "# show the plot\n",
    "plt.savefig('PR_knn.png')\n",
    "plt.show()"
   ]
  }
 ],
 "metadata": {
  "kernelspec": {
   "display_name": "Python 3",
   "language": "python",
   "name": "python3"
  },
  "language_info": {
   "codemirror_mode": {
    "name": "ipython",
    "version": 3
   },
   "file_extension": ".py",
   "mimetype": "text/x-python",
   "name": "python",
   "nbconvert_exporter": "python",
   "pygments_lexer": "ipython3",
   "version": "3.6.8"
  }
 },
 "nbformat": 4,
 "nbformat_minor": 2
}
